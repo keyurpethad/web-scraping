{
 "cells": [
  {
   "cell_type": "code",
   "execution_count": 30,
   "metadata": {
    "scrolled": true
   },
   "outputs": [
    {
     "name": "stdout",
     "output_type": "stream",
     "text": [
      "https://uwaterloo.ca/sites/uwaterloo.ca/files/styles/homepage_feature_stories_xl/public/uploads/images/hero-1.jpg?itok=JfST49xe\n",
      "https://uwaterloo.ca/sites/uwaterloo.ca/files/styles/homepage_feature_stories_xl/public/uploads/images/vinh-nguyen_homepage-1920-.jpg?itok=OK1xdgFp\n",
      "https://uwaterloo.ca/sites/uwaterloo.ca/files/styles/homepage_feature_stories_xl/public/uploads/images/dsc_7576-tamer-oszu-full-res-2-002_0.jpg?itok=kjhqv160\n",
      "https://uwaterloo.ca/sites/uwaterloo.ca/files/styles/homepage_feature_stories_xl/public/uploads/images/feature-image-historical-1920x1220.jpg?itok=GmG8fsnk\n",
      "https://uwaterloo.ca/sites/uwaterloo.ca/files/styles/homepage_feature_stories_xl/public/uploads/images/feature-awards.jpg-1920x1220.jpg?itok=ex0d8N0I\n",
      "https://uwaterloo.ca//profiles/uw_base_profile/modules/custom/uw_social_media_sharing/images/Facebook.png\n",
      "https://uwaterloo.ca//profiles/uw_base_profile/modules/custom/uw_social_media_sharing/images/Twitter.png\n",
      "https://uwaterloo.ca//profiles/uw_base_profile/modules/custom/uw_social_media_sharing/images/Google+.png\n",
      "https://uwaterloo.ca//profiles/uw_base_profile/modules/custom/uw_social_media_sharing/images/LinkedIn.png\n",
      "https://uwaterloo.ca//profiles/uw_base_profile/modules/custom/uw_social_media_sharing/images/Email.png\n"
     ]
    }
   ],
   "source": [
    "import urllib\n",
    "import requests\n",
    "from bs4 import BeautifulSoup\n",
    "\n",
    "theurl= 'https://uwaterloo.ca/'\n",
    "thepage= requests.get(theurl)\n",
    "soup= BeautifulSoup(thepage.text, 'html.parser')\n",
    "\n",
    "for img in soup.findAll('img'):\n",
    "    temp=img.get('src')\n",
    "    if temp[:1]=='/':\n",
    "        image = 'https://uwaterloo.ca/' + temp\n",
    "    else:\n",
    "        image = temp\n",
    "    \n",
    "    nametemp = img.get('alt')\n",
    "    \n",
    "    i=1\n",
    "    if len(nametemp)==0:\n",
    "        filename=str(i)\n",
    "        i+=1\n",
    "    else:\n",
    "        filename=nametemp\n",
    "\n",
    "    print(image)\n",
    "    imagefile = open(filename + '.jpeg','wb')\n",
    "    imagefile.write(image)\n",
    "    imagefile.close()"
   ]
  },
  {
   "cell_type": "code",
   "execution_count": null,
   "metadata": {},
   "outputs": [],
   "source": []
  }
 ],
 "metadata": {
  "kernelspec": {
   "display_name": "Python 2",
   "language": "python",
   "name": "python2"
  },
  "language_info": {
   "codemirror_mode": {
    "name": "ipython",
    "version": 2
   },
   "file_extension": ".py",
   "mimetype": "text/x-python",
   "name": "python",
   "nbconvert_exporter": "python",
   "pygments_lexer": "ipython2",
   "version": "2.7.14"
  }
 },
 "nbformat": 4,
 "nbformat_minor": 2
}
